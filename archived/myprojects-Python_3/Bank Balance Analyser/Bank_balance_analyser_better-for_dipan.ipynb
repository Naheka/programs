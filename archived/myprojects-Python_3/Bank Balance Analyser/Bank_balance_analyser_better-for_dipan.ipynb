{
 "cells": [
  {
   "cell_type": "code",
   "execution_count": 83,
   "metadata": {},
   "outputs": [],
   "source": [
    "import os.path\n",
    "import pandas"
   ]
  },
  {
   "cell_type": "code",
   "execution_count": 84,
   "metadata": {},
   "outputs": [],
   "source": [
    "def fix_date(string):\n",
    "    lst = string.split('.')\n",
    "    return pandas.Timestamp(int(lst[2]),int(lst[1]),int(lst[0]))\n",
    "\n",
    "def amount_splitter(value,credit = True):\n",
    "    value = value.replace('.','')\n",
    "    value = value.replace(',','.')\n",
    "    value = float(value)\n",
    "    if credit:\n",
    "        if value > 0:\n",
    "            return value\n",
    "        else:\n",
    "            return 0.00\n",
    "    else:\n",
    "        if value > 0:\n",
    "            return 0.00\n",
    "        else:\n",
    "            return -value"
   ]
  },
  {
   "cell_type": "code",
   "execution_count": 85,
   "metadata": {},
   "outputs": [
    {
     "name": "stderr",
     "output_type": "stream",
     "text": [
      "D:\\installed_programs\\Anaconda\\lib\\site-packages\\ipykernel_launcher.py:15: ParserWarning: Falling back to the 'python' engine because the 'c' engine does not support skipfooter; you can avoid this warning by specifying engine='python'.\n",
      "  from ipykernel import kernelapp as app\n"
     ]
    }
   ],
   "source": [
    "file_path = r'C:\\Users\\Arpan Ghosh\\Desktop\\bank_statement.csv'\n",
    "#file_path = input(\"Enter the path of .CSV file : \")\n",
    "#start_date = input(\"Enter the start date in YYYY-MM-DD format [Default first Entry] : \")\n",
    "start_date = ''\n",
    "#end_date = input(\"Enter the end date in YYYY-MM-DD format [Default end Entry] : \")\n",
    "end_date = ''\n",
    "#choice = input('Group by what? [D : Date / M : Month / W : Week / Y : Year] : ')\n",
    "choice = 'W'\n",
    "#row_foot = input(\"Skip row and footer count seperated by space [ default 10 1 ] : \")\n",
    "row_foot = ''\n",
    "if row_foot == '':\n",
    "    row_foot = '10 1'\n",
    "skip_r = int(row_foot.split()[0])\n",
    "skip_f = int(row_foot.split()[1])\n",
    "data = pandas.read_csv(file_path,sep=';',names = ['Txn Date','Value Date','Description','amount','EUR','NONE'],skiprows = skip_r,skipfooter = skip_f)\n",
    "del data['NONE']\n",
    "del data['EUR']\n",
    "data['Txn Date'] = data['Txn Date'].apply(lambda x : fix_date(x))\n",
    "data['Value Date'] = data['Value Date'].apply(lambda x : fix_date(x))\n",
    "data['Credit'] = data['amount'].apply(lambda x : amount_splitter(x,True))\n",
    "data['Debit'] = data['amount'].apply(lambda x : amount_splitter(x,False))\n",
    "del data['amount']"
   ]
  },
  {
   "cell_type": "code",
   "execution_count": 86,
   "metadata": {},
   "outputs": [],
   "source": [
    "data.sort_values(\"Value Date\",ascending = True, inplace = True) \n",
    "data.reset_index()\n",
    "if start_date == '':\n",
    "    start_date = str(data['Value Date'].min().date())\n",
    "if end_date == '':\n",
    "    end_date = str(data['Value Date'].max().date())"
   ]
  },
  {
   "cell_type": "code",
   "execution_count": 87,
   "metadata": {},
   "outputs": [],
   "source": [
    "data['year_month_date'] = data['Value Date'].dt.to_period(\"D\")\n",
    "data['year_month'] = data['Value Date'].dt.to_period(\"M\")\n",
    "data['year'] = data['Value Date'].dt.to_period(\"Y\")\n",
    "data['week'] = data['Value Date'].dt.year.apply(str)+'_'+data['Value Date'].dt.week.apply(str)\n",
    "#data['year_month_1'] = data['Value Date'].dt.month_name(locale = 'English') \n",
    "try:\n",
    "    data['Debit'] = data['        Debit']\n",
    "except KeyError as e:\n",
    "    pass"
   ]
  },
  {
   "cell_type": "code",
   "execution_count": 88,
   "metadata": {},
   "outputs": [],
   "source": [
    "condition_1 = data['year_month_date']>=pandas.Period(start_date,'D')\n",
    "condition_2 = data['year_month_date']<=pandas.Period(end_date,'D')\n",
    "data = data[condition_1 & condition_2]"
   ]
  },
  {
   "cell_type": "code",
   "execution_count": 89,
   "metadata": {},
   "outputs": [],
   "source": [
    "if choice == 'W':\n",
    "    data_gb = data.groupby('week')\n",
    "elif choice == 'M':\n",
    "    data_gb = data.groupby('year_month')\n",
    "elif choice == 'Y':\n",
    "    data_gb = data.groupby('year')\n",
    "elif choice == 'D':\n",
    "    data_gb = data.groupby('year_month_date')\n",
    "else:\n",
    "    print(\"Wrong Choice !\")\n",
    "    exit()"
   ]
  },
  {
   "cell_type": "code",
   "execution_count": 90,
   "metadata": {},
   "outputs": [
    {
     "name": "stdout",
     "output_type": "stream",
     "text": [
      "Total Credit over the given Period : 2037.92\n",
      "Total Debit over the given Period : 2823.95\n",
      "Average Credit per week Over the given period : 203.792\n",
      "Average Debit per week Over the given period :282.395\n",
      "Average Retention per week Over the given period : -78.603\n",
      "Standard Deviation of Credit : 427.9774\n",
      "Standard Deviation of Debit : 414.9755\n",
      "Maximum Credit of 1310.85 was caused on 2017-07-25 00:00:00 because DIPAN GHOSH Saldo Karten-Nr. 525615XXXXXX5544 zur Abrechnung ï¿½ber das Gir okonto\n",
      "Maximum Debit of 1238.96 was caused on 2017-07-04 00:00:00 because DIPAN GHOSH AMAZON.UK PAYMENTS AMAZON.CO.UK Karten-Nr. 525615XXXXXX5544 Beleg vom 03.07.2017 fï¿½r Abrechnung Juli\n",
      "\n",
      "File already exists ! want to replace ? (Y/N) : n\n",
      "Enter the file name only : testing\n"
     ]
    },
    {
     "data": {
      "image/png": "[encoded data removed]",
      "text/plain": [
       "<Figure size 1440x720 with 1 Axes>"
      ]
     },
     "metadata": {
      "needs_background": "light"
     },
     "output_type": "display_data"
    }
   ],
   "source": [
    "credit,debit,saving,key_list = [],[],[],[]\n",
    "Total_C = 0\n",
    "Total_D = 0\n",
    "count = 0\n",
    "for key,df in data_gb:\n",
    "    C = sum(df['Credit'].apply(lambda x: 0 if (x == ' ') else x).tolist())\n",
    "    D = sum(df['Debit'].apply(lambda x: 0 if (x == ' ') else x).tolist())\n",
    "    Total_C += C\n",
    "    Total_D += D\n",
    "    count += 1\n",
    "    credit.append(C)\n",
    "    debit.append(D)\n",
    "    saving.append(C-D)\n",
    "    key_list.append(key)\n",
    "summary = pandas.DataFrame({'key':key_list,'credit':credit,'debit':debit})\n",
    "summary_1 = pandas.DataFrame({'saving':saving})\n",
    "#summary.year_month = summary['key'].apply(pandas.Period.to_timestamp)\n",
    "if choice == 'W':\n",
    "    summary['key_year'] = summary['key']\n",
    "    summary['key_week'] = summary['key']\n",
    "    summary['key_year'] = summary['key_year'].apply(lambda x : int(x.split('_')[0]))\n",
    "    summary.key_year = summary.key_year.astype(int)\n",
    "    summary['key_week'] = summary['key_week'].apply(lambda x : int(x.split('_')[1]))\n",
    "    summary.key_week = summary.key_week.astype(int)\n",
    "    summary = summary.sort_values(['key_year','key_week'])\n",
    "    summary = summary.drop(columns=['key_week', 'key_year'])\n",
    "else:\n",
    "    summary = summary.sort_values('key',ascending = False)\n",
    "\n",
    "if choice == 'W':\n",
    "    summary['key_'] = summary['key']\n",
    "elif choice == 'M':\n",
    "    summary['key_'] = summary['key'].apply(lambda x : x.strftime(\"%Y-%b\"))\n",
    "elif choice == 'Y':\n",
    "    summary['key_'] = summary['key'].apply(lambda x : x.strftime(\"%Y\"))\n",
    "elif choice == 'D':\n",
    "    summary['key_'] = summary['key'].apply(lambda x : x.strftime(\"%Y-%b-%d\"))\n",
    "    \n",
    "summary_1['key'] = summary['key']\n",
    "summary_1['key_'] = summary['key_']\n",
    "summary_1['positive'] = summary_1['saving'] > 0\n",
    "\n",
    "if choice != 'W':\n",
    "    ax = summary.plot(kind = 'bar',figsize=(20,10),x = 'key',grid = True,title = 'Bank data Analyser by Arpan Ghosh',logy = True)\n",
    "else:\n",
    "    ax = summary.plot(kind = 'bar',figsize=(20,10),grid = True,title = 'Bank data Analyser by Arpan Ghosh',logy = True)\n",
    "ax.set_xticklabels(summary['key_'])\n",
    "if choice == 'W':\n",
    "    ax.set_xlabel(\"Year_Week-number\")\n",
    "    what = 'week'\n",
    "elif choice == 'M':\n",
    "    ax.set_xlabel(\"Year_Month-name\")\n",
    "    what = 'month'\n",
    "elif choice == 'Y':\n",
    "    ax.set_xlabel(\"Year\")\n",
    "    what = 'year'\n",
    "elif choice == 'D':\n",
    "    ax.set_xlabel(\"Date\")\n",
    "    what = 'day'\n",
    "\n",
    "ax.set_ylabel(\"Amount in Euro in LOG scale\")\n",
    "#ax.set_ylim(0, 3000)\n",
    "Max_C = data[data.Credit == data.Credit.max()]\n",
    "Max_D = data[data.Debit == data.Debit.max()]\n",
    "info = \"Total Credit over the given Period : \"+str(round(Total_C,3))+'\\n'+\"Total Debit over the given Period : \"+str(round(Total_D,3))+'\\n'+\"Average Credit per \"+what+\" Over the given period : \"+str(round((Total_C/count),3))+'\\n'+\"Average Debit per \"+what+\" Over the given period :\"+str(round(Total_D/count,3))+'\\n'+\"Average Retention per \"+what+\" Over the given period : \"+str(round((Total_C-Total_D)/count,3))+'\\n'+\"Standard Deviation of Credit : \"+str(round(summary.credit.std(ddof=0),4))+'\\n'+\"Standard Deviation of Debit : \"+str(round(summary.debit.std(ddof=0),4))+'\\n'\n",
    "info += \"Maximum Credit of \"+str(Max_C['Credit'].to_list()[0])+\" was caused on \"+str(Max_C['Value Date'].to_list()[0])+\" because \"+str(Max_C['Description'].to_list()[0])+'\\n'+\"Maximum Debit of \"+str(Max_D['Debit'].to_list()[0])+\" was caused on \"+str(Max_D['Value Date'].to_list()[0])\n",
    "info += \" because \"+str(Max_D['Description'].to_list()[0])+'\\n'\n",
    "print(info)\n",
    "out_path = os.path.abspath(os.path.join(file_path, os.pardir))\n",
    "if os.path.exists(out_path+'\\\\chart.pdf'):\n",
    "    inp = input(\"File already exists ! want to replace ? (Y/N) : \")\n",
    "    if inp == 'Y' or inp == 'y':\n",
    "        out_path_pdf = out_path+'\\\\chart.pdf'\n",
    "        out_path_pdf_1 = out_path+'\\\\chart_1.pdf'\n",
    "        out_path_txt = out_path+'\\\\chart.txt'\n",
    "    else:\n",
    "        name = input(\"Enter the file name only : \")\n",
    "        out_path_pdf = out_path+\"\\\\\"+name+\".pdf\"\n",
    "        out_path_pdf_1 = out_path+\"\\\\\"+name+\"_1.pdf\"\n",
    "        out_path_txt = out_path+\"\\\\\"+name+\".txt\"\n",
    "else:\n",
    "    out_path_pdf = out_path+'\\\\chart.pdf'\n",
    "    out_path_txt = out_path+'\\\\chart.txt'\n",
    "    out_path_pdf_1 = out_path+\"\\\\\"+\"chart_1.pdf\"\n",
    "out = open(out_path_txt,'w')\n",
    "out.write(info)\n",
    "out.close()\n",
    "figure = ax.get_figure()\n",
    "figure.savefig(os.path.abspath(out_path_pdf))\n",
    "ax.clear()\n",
    "\n",
    "if choice != 'W':\n",
    "    ax_1 = summary_1['saving'].plot(kind='bar',x = 'key',color=summary_1.positive.map({True: 'g', False: 'r'}),figsize=(20,10),grid = True,title = 'Bank savings Analyser by Arpan Ghosh')\n",
    "else:\n",
    "    ax_1 = summary_1['saving'].plot(kind='bar',color=summary_1.positive.map({True: 'g', False: 'r'}),figsize=(20,10),grid = True,title = 'Bank savings Analyser by Arpan Ghosh')\n",
    "ax_1.set_xticklabels(summary_1['key_'])\n",
    "if choice == 'W':\n",
    "    ax_1.set_xlabel(\"Year_Week-number\")\n",
    "    what = 'week'\n",
    "elif choice == 'M':\n",
    "    ax_1.set_xlabel(\"Year_Month-name\")\n",
    "    what = 'month'\n",
    "elif choice == 'Y':\n",
    "    ax_1.set_xlabel(\"Year\")\n",
    "    what = 'year'\n",
    "elif choice == 'D':\n",
    "    ax_1.set_xlabel(\"Date\")\n",
    "    what = 'day'\n",
    "ax_1.set_ylabel(\"Amount in Euro in LOG scale\")\n",
    "figure_1 = ax_1.get_figure()\n",
    "figure_1.savefig(os.path.abspath(out_path_pdf_1))"
   ]
  },
  {
   "cell_type": "code",
   "execution_count": null,
   "metadata": {},
   "outputs": [],
   "source": []
  }
 ],
 "metadata": {
  "kernelspec": {
   "display_name": "Python 3",
   "language": "python",
   "name": "python3"
  },
  "language_info": {
   "codemirror_mode": {
    "name": "ipython",
    "version": 3
   },
   "file_extension": ".py",
   "mimetype": "text/x-python",
   "name": "python",
   "nbconvert_exporter": "python",
   "pygments_lexer": "ipython3",
   "version": "3.7.4"
  }
 },
 "nbformat": 4,
 "nbformat_minor": 2
}
