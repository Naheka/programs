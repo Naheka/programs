{
 "cells": [
  {
   "cell_type": "code",
   "execution_count": 2,
   "metadata": {},
   "outputs": [],
   "source": [
    "import requests, time\n",
    "import datetime\n",
    "\n",
    "def get_post_details(start_time,end_time,subreddit,use_filter=\"\"):\n",
    "    url_submission = f\"https://api.pushshift.io/reddit/search/submission/?subreddit={subreddit}&size=0&after={start_time}&before={end_time}&q={use_filter}\"\n",
    "    response_submission = requests.get(url_submission)\n",
    "    url_comment = f\"https://api.pushshift.io/reddit/search/comment/?subreddit={subreddit}&size=0&after={start_time}&before={end_time}&q={use_filter}\"\n",
    "    response_comment = requests.get(url_comment)\n",
    "    \n",
    "    old_sub_url = f\"https://api.pushshift.io/reddit/search/submission/?subreddit={subreddit}&size=1&before={start_time}\"\n",
    "    response_old_sub = requests.get(old_sub_url)\n",
    "    old_sub_data = response_old_sub.json()\n",
    "    old_sub_count = old_sub_data['data'][0]['subreddit_subscribers']\n",
    "\n",
    "    new_sub_url = f\"https://api.pushshift.io/reddit/search/submission/?subreddit={subreddit}&size=1&before={end_time}\"\n",
    "    response_new_sub = requests.get(new_sub_url)\n",
    "    new_sub_data = response_new_sub.json()\n",
    "    new_sub_count = new_sub_data['data'][0]['subreddit_subscribers']\n",
    "\n",
    "    sub_increase_count = new_sub_count-old_sub_count\n",
    "\n",
    "    if response_submission.status_code == 200 and response_comment.status_code == 200:\n",
    "        data_submission = response_submission.json()\n",
    "        data_comment = response_comment.json()\n",
    "        return {\"start_date\":datetime.datetime.fromtimestamp(start_time).strftime('%Y-%m-%d'),\"end_date\":datetime.datetime.fromtimestamp(end_time).strftime('%Y-%m-%d'), \"new_submission_count\":data_submission['metadata']['es']['hits']['total']['value'], \"new_comment_count\":data_comment['metadata']['es']['hits']['total']['value'],\"new_subscriber_count\":sub_increase_count, \"total_current_subscribers\":new_sub_count}\n",
    "    else:\n",
    "        print(\"Error fetching data from Pushshift API.\")\n",
    "        raise ValueError(\"Error fetching data from pushapi\")"
   ]
  },
  {
   "cell_type": "code",
   "execution_count": 3,
   "metadata": {},
   "outputs": [],
   "source": [
    "SUBREDDIT = \"unemployment\" # replace with the desired subreddit name\n",
    "INCLUDE_REMOVED = True\n",
    "OUTPUT_FILE = \"C:/Users/thisi/Downloads/reddit_code_out.csv\"\n",
    "start_date = \"2020-01-01\"  # yyyy-mm-dd format\n",
    "end_date = \"2020-03-01\"  # yyyy-mm-dd format\n",
    "interval_days = 7 # interval days\n",
    "\n",
    "#current_time = int(datetime.datetime.now().timestamp())\n",
    "#last_week_time = int((datetime.datetime.now() - datetime.timedelta(days=7)).timestamp())\n",
    "\n",
    "additional_filter = \"\" if INCLUDE_REMOVED else \"!(%22[removed]%22)\""
   ]
  },
  {
   "cell_type": "code",
   "execution_count": 14,
   "metadata": {},
   "outputs": [],
   "source": [
    "start_time = datetime.datetime.strptime(start_date, \"%Y-%m-%d\")\n",
    "end_time = datetime.datetime.strptime(end_date, \"%Y-%m-%d\")\n",
    "interval = datetime.timedelta(days=interval_days)\n",
    "\n",
    "timestamps = []\n",
    "current_time = start_time\n",
    "while current_time <= (end_time-interval):\n",
    "    timestamps.append((int(current_time.timestamp()),int((current_time+interval).timestamp())))\n",
    "    current_time += interval\n",
    "\n",
    "timestamps.append((int(current_time.timestamp()),int(end_time.timestamp())))"
   ]
  },
  {
   "cell_type": "code",
   "execution_count": 15,
   "metadata": {},
   "outputs": [
    {
     "name": "stdout",
     "output_type": "stream",
     "text": [
      "Expecting value: line 1 column 1 (char 0)\n",
      "Expecting value: line 1 column 1 (char 0)\n",
      "Expecting value: line 1 column 1 (char 0)\n",
      "Expecting value: line 1 column 1 (char 0)\n",
      "Expecting value: line 1 column 1 (char 0)\n",
      "Expecting value: line 1 column 1 (char 0)\n",
      "{'start_date': '2020-01-01', 'end_date': '2020-01-08', 'new_submission_count': 14, 'new_comment_count': 60, 'new_subscriber_count': 306, 'total_current_subscribers': 5667}\n",
      "{'start_date': '2020-01-08', 'end_date': '2020-01-15', 'new_submission_count': 13, 'new_comment_count': 83, 'new_subscriber_count': 178, 'total_current_subscribers': 5845}\n",
      "{'start_date': '2020-01-15', 'end_date': '2020-01-22', 'new_submission_count': 15, 'new_comment_count': 58, 'new_subscriber_count': 287, 'total_current_subscribers': 6132}\n",
      "{'start_date': '2020-01-22', 'end_date': '2020-01-29', 'new_submission_count': 20, 'new_comment_count': 92, 'new_subscriber_count': 188, 'total_current_subscribers': 6320}\n",
      "{'start_date': '2020-01-29', 'end_date': '2020-02-05', 'new_submission_count': 19, 'new_comment_count': 76, 'new_subscriber_count': 269, 'total_current_subscribers': 6589}\n",
      "{'start_date': '2020-02-05', 'end_date': '2020-02-12', 'new_submission_count': 12, 'new_comment_count': 96, 'new_subscriber_count': 145, 'total_current_subscribers': 6734}\n",
      "{'start_date': '2020-02-12', 'end_date': '2020-02-19', 'new_submission_count': 14, 'new_comment_count': 49, 'new_subscriber_count': 240, 'total_current_subscribers': 6974}\n",
      "{'start_date': '2020-02-19', 'end_date': '2020-02-26', 'new_submission_count': 14, 'new_comment_count': 66, 'new_subscriber_count': 150, 'total_current_subscribers': 7124}\n",
      "{'start_date': '2020-02-26', 'end_date': '2020-03-01', 'new_submission_count': 9, 'new_comment_count': 30, 'new_subscriber_count': 226, 'total_current_subscribers': 7350}\n"
     ]
    }
   ],
   "source": [
    "for timestamp in timestamps:\n",
    "    while True:\n",
    "        try:\n",
    "            result_dict = get_post_details(timestamp[0],timestamp[1],SUBREDDIT,additional_filter)\n",
    "        except Exception as ERR:\n",
    "            print(ERR)\n",
    "            time.sleep(2)\n",
    "            continue\n",
    "        break\n",
    "    output_str = \",\".join([result_dict['start_date'], result_dict['end_date'],str(result_dict['new_submission_count']),str(result_dict['new_comment_count']),str(result_dict['new_subscriber_count']),str(result_dict['total_current_subscribers'])])\n",
    "    with open(OUTPUT_FILE,'a') as out_file:\n",
    "        out_file.write(\"\\n\"+output_str)\n",
    "    print(result_dict)"
   ]
  },
  {
   "cell_type": "code",
   "execution_count": 11,
   "metadata": {},
   "outputs": [
    {
     "data": {
      "text/plain": [
       "{'start_date': '2021-12-01',\n",
       " 'end_date': '2022-11-01',\n",
       " 'new_submission_count': 0,\n",
       " 'new_comment_count': 10000,\n",
       " 'new_subscriber_count': 0,\n",
       " 'total_current_subscribers': 107668}"
      ]
     },
     "execution_count": 11,
     "metadata": {},
     "output_type": "execute_result"
    }
   ],
   "source": [
    "#get_post_details(int(datetime.datetime.strptime(\"2021-12-01\", \"%Y-%m-%d\").timestamp()),int(datetime.datetime.strptime(\"2022-11-01\", \"%Y-%m-%d\").timestamp()),SUBREDDIT,additional_filter)"
   ]
  },
  {
   "cell_type": "code",
   "execution_count": 10,
   "metadata": {},
   "outputs": [
    {
     "data": {
      "text/plain": [
       "datetime.datetime(2021, 12, 1, 0, 0)"
      ]
     },
     "execution_count": 10,
     "metadata": {},
     "output_type": "execute_result"
    }
   ],
   "source": [
    "datetime.datetime.strptime(\"2021-12-01\", \"%Y-%m-%d\")"
   ]
  },
  {
   "cell_type": "code",
   "execution_count": null,
   "metadata": {},
   "outputs": [],
   "source": []
  }
 ],
 "metadata": {
  "kernelspec": {
   "display_name": "Python 3",
   "language": "python",
   "name": "python3"
  },
  "language_info": {
   "codemirror_mode": {
    "name": "ipython",
    "version": 3
   },
   "file_extension": ".py",
   "mimetype": "text/x-python",
   "name": "python",
   "nbconvert_exporter": "python",
   "pygments_lexer": "ipython3",
   "version": "3.10.10"
  },
  "orig_nbformat": 4
 },
 "nbformat": 4,
 "nbformat_minor": 2
}
