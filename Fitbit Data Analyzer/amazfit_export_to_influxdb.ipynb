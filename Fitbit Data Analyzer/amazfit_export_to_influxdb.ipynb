{
 "cells": [
  {
   "cell_type": "code",
   "execution_count": 21,
   "metadata": {},
   "outputs": [],
   "source": [
    "import pandas as pd\n",
    "from datetime import datetime\n",
    "import pytz, os, glob\n",
    "from influxdb import InfluxDBClient\n",
    "from influxdb.exceptions import InfluxDBClientError\n",
    "from dotenv import dotenv_values\n",
    "\n",
    "REDIRECT_URI = 'http://localhost/8080'\n",
    "INFLUXDB_HOST = 'localhost'\n",
    "INFLUXDB_PORT = 8086\n",
    "INFLUXDB_USERNAME = dotenv_values('C:/Users/thisi/OneDrive/Desktop/Python codes/.env')['INFLUX_USERNAME']\n",
    "INFLUXDB_PASSWORD = dotenv_values('C:/Users/thisi/OneDrive/Desktop/Python codes/.env')['INFLUX_USER_PASSWORD']\n",
    "INFLUXDB_DATABASE = 'amazfit'\n",
    "\n",
    "try:\n",
    "    client = InfluxDBClient(host=INFLUXDB_HOST, port=INFLUXDB_PORT, username=INFLUXDB_USERNAME, password=INFLUXDB_PASSWORD)\n",
    "    client.switch_database(INFLUXDB_DATABASE)\n",
    "except InfluxDBClientError as err:\n",
    "    print(\"\\nInfluxDB connection failed: %s \\n\" % (err))"
   ]
  },
  {
   "attachments": {},
   "cell_type": "markdown",
   "metadata": {},
   "source": [
    "## Folder Set"
   ]
  },
  {
   "cell_type": "code",
   "execution_count": 22,
   "metadata": {},
   "outputs": [],
   "source": [
    "master_folder = \"C:/Users/thisi/Downloads/6018253702_1678609836608\" # Change this folder path to your unzipped master folder\n",
    "\n",
    "default_paths = {'hr_path': glob.glob(f\"{master_folder}/HEARTRATE_AUTO/*\")[0], \n",
    "                 'steps_path': glob.glob(f\"{master_folder}/ACTIVITY_MINUTE/*\")[0], \n",
    "                 'sleep_path': glob.glob(f\"{master_folder}/SLEEP/*\")[0]\n",
    "                }"
   ]
  },
  {
   "attachments": {},
   "cell_type": "markdown",
   "metadata": {},
   "source": [
    "## Automatic Heart rate"
   ]
  },
  {
   "cell_type": "code",
   "execution_count": 23,
   "metadata": {},
   "outputs": [],
   "source": [
    "def convert_single_dt(timestr):\n",
    "    input_string = str(timestr)\n",
    "    local_time = datetime.strptime(input_string, '%Y-%m-%d %H:%M')\n",
    "    local_tz = pytz.timezone('Asia/Calcutta')\n",
    "    local_time = local_tz.localize(local_time)\n",
    "    gmt_tz = pytz.timezone('GMT')\n",
    "    return local_time.astimezone(gmt_tz)\n",
    "\n",
    "hr_data = pd.read_csv(default_paths['hr_path'])\n",
    "\n",
    "hr_points = [\n",
    "    {\n",
    "        \"measurement\": \"heartrate\",\n",
    "        \"time\": convert_single_dt(f\"{row.date} {row.time}\"),\n",
    "        \"fields\": {\"value\": int(row.heartRate)},\n",
    "    }\n",
    "    for row in hr_data.itertuples()\n",
    "]\n",
    "\n",
    "try:\n",
    "    client.write_points(hr_points)\n",
    "except InfluxDBClientError as err:\n",
    "    print(\"\\nUnable to write points to InfluxDB: %s \\n\" % (err))"
   ]
  },
  {
   "attachments": {},
   "cell_type": "markdown",
   "metadata": {},
   "source": [
    "## Activity Minutes ( steps )"
   ]
  },
  {
   "cell_type": "code",
   "execution_count": 24,
   "metadata": {},
   "outputs": [],
   "source": [
    "steps_data = pd.read_csv(default_paths['steps_path'])\n",
    "\n",
    "steps_points = [\n",
    "    {\n",
    "        \"measurement\": \"activity\",\n",
    "        \"time\": convert_single_dt(f\"{row.date} {row.time}\"),\n",
    "        \"fields\": {\"steps\": int(row.steps)},\n",
    "    }\n",
    "    for row in steps_data.itertuples()\n",
    "]\n",
    "\n",
    "try:\n",
    "    client.write_points(steps_points)\n",
    "except InfluxDBClientError as err:\n",
    "    print(\"\\nUnable to write points to InfluxDB: %s \\n\" % (err))"
   ]
  },
  {
   "attachments": {},
   "cell_type": "markdown",
   "metadata": {},
   "source": [
    "## Sleep data"
   ]
  },
  {
   "cell_type": "code",
   "execution_count": 25,
   "metadata": {},
   "outputs": [],
   "source": [
    "sleep_data = pd.read_csv(default_paths['sleep_path'], usecols=['date', 'start','stop','deepSleepTime','shallowSleepTime','wakeTime','REMTime'])\n",
    "\n",
    "sleep_points = [\n",
    "    {\n",
    "        \"measurement\": \"sleep\",\n",
    "        \"time\": convert_single_dt(f\"{row.date} 05:30\"),\n",
    "        \"fields\": {\"minutes_deep\": int(row.deepSleepTime),\n",
    "                   \"minutes_light\": int(row.shallowSleepTime),\n",
    "                   \"minutes_rem\": int(row.REMTime),\n",
    "                   \"minutes_awake\": int(row.wakeTime),\n",
    "                   \"total_duration\": int((datetime.strptime(row.stop,'%Y-%m-%d %H:%M:%S%z') - datetime.strptime(row.start,'%Y-%m-%d %H:%M:%S%z')).total_seconds() / 60)\n",
    "                   },\n",
    "    }\n",
    "    for row in sleep_data.itertuples()\n",
    "]\n",
    "\n",
    "sleep_periods = [\n",
    "    {\n",
    "        \"measurement\": \"sleep_periods\",\n",
    "        \"time\": datetime.strptime(row.start,'%Y-%m-%d %H:%M:%S%z'),\n",
    "        \"fields\": {\"state\": 'asleep'},\n",
    "    }\n",
    "    for row in sleep_data.itertuples()\n",
    "]\n",
    "\n",
    "sleep_periods += [\n",
    "    {\n",
    "        \"measurement\": \"sleep_periods\",\n",
    "        \"time\": datetime.strptime(row.stop,'%Y-%m-%d %H:%M:%S%z'),\n",
    "        \"fields\": {\"state\": 'awake'},\n",
    "    }\n",
    "    for row in sleep_data.itertuples()\n",
    "]\n",
    "\n",
    "try:\n",
    "    client.write_points(sleep_points)\n",
    "    client.write_points(sleep_periods)\n",
    "except InfluxDBClientError as err:\n",
    "    print(\"\\nUnable to write points to InfluxDB: %s \\n\" % (err))"
   ]
  }
 ],
 "metadata": {
  "kernelspec": {
   "display_name": "Python 3",
   "language": "python",
   "name": "python3"
  },
  "language_info": {
   "codemirror_mode": {
    "name": "ipython",
    "version": 3
   },
   "file_extension": ".py",
   "mimetype": "text/x-python",
   "name": "python",
   "nbconvert_exporter": "python",
   "pygments_lexer": "ipython3",
   "version": "3.10.10"
  },
  "orig_nbformat": 4
 },
 "nbformat": 4,
 "nbformat_minor": 2
}
